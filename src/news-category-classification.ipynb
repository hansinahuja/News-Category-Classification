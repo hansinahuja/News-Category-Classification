{
 "cells": [
  {
   "cell_type": "code",
   "execution_count": 1,
   "metadata": {
    "colab": {
     "base_uri": "https://localhost:8080/",
     "height": 34
    },
    "colab_type": "code",
    "executionInfo": {
     "elapsed": 4980,
     "status": "ok",
     "timestamp": 1564312685150,
     "user": {
      "displayName": "Hansin Ahuja",
      "photoUrl": "",
      "userId": "15565003093339058118"
     },
     "user_tz": -330
    },
    "id": "MAhzA1WocLIb",
    "outputId": "6e65bb19-e3dc-42de-dc0e-0f13c072bd4e"
   },
   "outputs": [
    {
     "name": "stderr",
     "output_type": "stream",
     "text": [
      "Using TensorFlow backend.\n"
     ]
    }
   ],
   "source": [
    "# Import the required libraries and functions\n",
    "\n",
    "import numpy as np\n",
    "import pandas as pd\n",
    "from keras import initializers, regularizers, constraints\n",
    "from keras.layers import Dense, Input, LSTM, Bidirectional, GRU, Dropout, Embedding\n",
    "from keras.models import Sequential, Model, load_model\n",
    "from keras.initializers import Constant\n",
    "from keras.preprocessing import sequence\n",
    "from keras.preprocessing.text import Tokenizer, text_to_word_sequence\n",
    "from keras.utils import np_utils\n",
    "from sklearn.model_selection import train_test_split\n",
    "import os"
   ]
  },
  {
   "cell_type": "code",
   "execution_count": 0,
   "metadata": {
    "colab": {},
    "colab_type": "code",
    "id": "WRZx6819RAtm"
   },
   "outputs": [],
   "source": [
    "# File paths\n",
    "\n",
    "TRAIN_FILE_PATH = '../data/news_train.json'\n",
    "TEST_FILE_PATH = '../data/news_test.json' \n",
    "SUBMISSION_FILE_PATH = '../data/samplesubmissionNLP.csv'\n",
    "GLOVE_FILE_PATH = # Enter glove.6B.100d file path here "
   ]
  },
  {
   "cell_type": "code",
   "execution_count": 0,
   "metadata": {
    "colab": {
     "base_uri": "https://localhost:8080/",
     "height": 330
    },
    "colab_type": "code",
    "executionInfo": {
     "elapsed": 16281,
     "status": "ok",
     "timestamp": 1563649640277,
     "user": {
      "displayName": "Hansin Ahuja",
      "photoUrl": "",
      "userId": "15565003093339058118"
     },
     "user_tz": -330
    },
    "id": "tXFhoru4g4Bi",
    "outputId": "c224d8f5-865b-4d59-e611-00f0f60efbb9"
   },
   "outputs": [
    {
     "data": {
      "text/html": [
       "<div>\n",
       "<style scoped>\n",
       "    .dataframe tbody tr th:only-of-type {\n",
       "        vertical-align: middle;\n",
       "    }\n",
       "\n",
       "    .dataframe tbody tr th {\n",
       "        vertical-align: top;\n",
       "    }\n",
       "\n",
       "    .dataframe thead th {\n",
       "        text-align: right;\n",
       "    }\n",
       "</style>\n",
       "<table border=\"1\" class=\"dataframe\">\n",
       "  <thead>\n",
       "    <tr style=\"text-align: right;\">\n",
       "      <th></th>\n",
       "      <th>authors</th>\n",
       "      <th>category</th>\n",
       "      <th>date</th>\n",
       "      <th>headline</th>\n",
       "      <th>link</th>\n",
       "      <th>short_description</th>\n",
       "      <th>concat</th>\n",
       "      <th>concat_tokenized</th>\n",
       "    </tr>\n",
       "  </thead>\n",
       "  <tbody>\n",
       "    <tr>\n",
       "      <th>0</th>\n",
       "      <td>Melissa Jeltsen</td>\n",
       "      <td>CRIME</td>\n",
       "      <td>2018-05-26</td>\n",
       "      <td>There Were 2 Mass Shootings In Texas Last Week...</td>\n",
       "      <td>https://www.huffingtonpost.com/entry/texas-ama...</td>\n",
       "      <td>She left her husband. He killed their children...</td>\n",
       "      <td>There Were 2 Mass Shootings In Texas Last Week...</td>\n",
       "      <td>[79, 110, 271, 1398, 3273, 6, 705, 147, 119, 2...</td>\n",
       "    </tr>\n",
       "    <tr>\n",
       "      <th>1</th>\n",
       "      <td>Andy McDonald</td>\n",
       "      <td>ENTERTAINMENT</td>\n",
       "      <td>2018-05-26</td>\n",
       "      <td>Will Smith Joins Diplo And Nicky Jam For The 2...</td>\n",
       "      <td>https://www.huffingtonpost.com/entry/will-smit...</td>\n",
       "      <td>Of course it has a song.</td>\n",
       "      <td>Will Smith Joins Diplo And Nicky Jam For The 2...</td>\n",
       "      <td>[41, 1066, 3146, 27121, 3, 25416, 5701, 8, 1, ...</td>\n",
       "    </tr>\n",
       "    <tr>\n",
       "      <th>2</th>\n",
       "      <td>Ron Dicker</td>\n",
       "      <td>ENTERTAINMENT</td>\n",
       "      <td>2018-05-26</td>\n",
       "      <td>Hugh Grant Marries For The First Time At Age 57</td>\n",
       "      <td>https://www.huffingtonpost.com/entry/hugh-gran...</td>\n",
       "      <td>The actor and his longtime girlfriend Anna Ebe...</td>\n",
       "      <td>Hugh Grant Marries For The First Time At Age 5...</td>\n",
       "      <td>[5834, 3907, 9460, 8, 1, 76, 55, 18, 494, 9203...</td>\n",
       "    </tr>\n",
       "    <tr>\n",
       "      <th>3</th>\n",
       "      <td>Ron Dicker</td>\n",
       "      <td>ENTERTAINMENT</td>\n",
       "      <td>2018-05-26</td>\n",
       "      <td>Jim Carrey Blasts 'Castrato' Adam Schiff And D...</td>\n",
       "      <td>https://www.huffingtonpost.com/entry/jim-carre...</td>\n",
       "      <td>The actor gives Dems an ass-kicking for not fi...</td>\n",
       "      <td>Jim Carrey Blasts 'Castrato' Adam Schiff And D...</td>\n",
       "      <td>[1406, 13821, 3812, 69034, 1670, 12569, 3, 542...</td>\n",
       "    </tr>\n",
       "    <tr>\n",
       "      <th>4</th>\n",
       "      <td>Ron Dicker</td>\n",
       "      <td>ENTERTAINMENT</td>\n",
       "      <td>2018-05-26</td>\n",
       "      <td>Julianna Margulies Uses Donald Trump Poop Bags...</td>\n",
       "      <td>https://www.huffingtonpost.com/entry/julianna-...</td>\n",
       "      <td>The \"Dietland\" actress said using the bags is ...</td>\n",
       "      <td>Julianna Margulies Uses Donald Trump Poop Bags...</td>\n",
       "      <td>[31454, 38420, 2004, 83, 37, 8502, 3639, 2, 11...</td>\n",
       "    </tr>\n",
       "  </tbody>\n",
       "</table>\n",
       "</div>"
      ],
      "text/plain": [
       "           authors  ...                                   concat_tokenized\n",
       "0  Melissa Jeltsen  ...  [79, 110, 271, 1398, 3273, 6, 705, 147, 119, 2...\n",
       "1    Andy McDonald  ...  [41, 1066, 3146, 27121, 3, 25416, 5701, 8, 1, ...\n",
       "2       Ron Dicker  ...  [5834, 3907, 9460, 8, 1, 76, 55, 18, 494, 9203...\n",
       "3       Ron Dicker  ...  [1406, 13821, 3812, 69034, 1670, 12569, 3, 542...\n",
       "4       Ron Dicker  ...  [31454, 38420, 2004, 83, 37, 8502, 3639, 2, 11...\n",
       "\n",
       "[5 rows x 8 columns]"
      ]
     },
     "execution_count": 29,
     "metadata": {
      "tags": []
     },
     "output_type": "execute_result"
    }
   ],
   "source": [
    "# Loading and preprocessing training data\n",
    "\n",
    "df = pd.read_json(TRAIN_FILE_PATH, lines=True)\n",
    "df['concat'] =  df['headline'] + \" \" + df['short_description'] + \" \" + df['authors']\n",
    "tokenizer = Tokenizer()\n",
    "tokenizer.fit_on_texts(df.concat)\n",
    "df['concat_tokenized'] = tokenizer.texts_to_sequences(df.concat)\n",
    "maxlen = 50\n",
    "X = list(sequence.pad_sequences(df.concat_tokenized, maxlen=maxlen))\n",
    "df.head()"
   ]
  },
  {
   "cell_type": "code",
   "execution_count": 0,
   "metadata": {
    "colab": {},
    "colab_type": "code",
    "id": "LELaKuBqYquB"
   },
   "outputs": [],
   "source": [
    "# Encoding the categories / assigning a number to each category\n",
    "\n",
    "categories = df.groupby('category').size().index.tolist()\n",
    "category_int = {}\n",
    "int_category = {}\n",
    "for i, k in enumerate(categories):\n",
    "    category_int.update({k:i})\n",
    "    int_category.update({i:k})\n",
    "\n",
    "df['category_to_id'] = df['category'].apply(lambda x: category_int[x])"
   ]
  },
  {
   "cell_type": "code",
   "execution_count": 0,
   "metadata": {
    "colab": {},
    "colab_type": "code",
    "id": "IWtyx2lP1gp5"
   },
   "outputs": [],
   "source": [
    "# Preparing the embedding index using pretrained GloVe embedding. Source: https://blog.keras.io/using-pre-trained-word-embeddings-in-a-keras-model.html\n",
    "\n",
    "word_index = tokenizer.word_index\n",
    "EMBEDDING_DIM = 100\n",
    "embeddings_index = {}\n",
    "f = open(GLOVE_FILE_PATH)\n",
    "for line in f:\n",
    "    values = line.split()\n",
    "    word = values[0]\n",
    "    coefs = np.asarray(values[1:], dtype='float32')\n",
    "    embeddings_index[word] = coefs\n",
    "f.close()"
   ]
  },
  {
   "cell_type": "code",
   "execution_count": 3,
   "metadata": {
    "colab": {
     "base_uri": "https://localhost:8080/",
     "height": 229
    },
    "colab_type": "code",
    "executionInfo": {
     "elapsed": 1226,
     "status": "error",
     "timestamp": 1564312703353,
     "user": {
      "displayName": "Hansin Ahuja",
      "photoUrl": "",
      "userId": "15565003093339058118"
     },
     "user_tz": -330
    },
    "id": "OvJoTnMg135Z",
    "outputId": "ba273670-9288-44d1-e828-c034c3f46bff"
   },
   "outputs": [
    {
     "ename": "NameError",
     "evalue": "ignored",
     "output_type": "error",
     "traceback": [
      "\u001b[0;31m---------------------------------------------------------------------------\u001b[0m",
      "\u001b[0;31mNameError\u001b[0m                                 Traceback (most recent call last)",
      "\u001b[0;32m<ipython-input-3-9a16dc37b47e>\u001b[0m in \u001b[0;36m<module>\u001b[0;34m()\u001b[0m\n\u001b[1;32m      1\u001b[0m \u001b[0;34m\u001b[0m\u001b[0m\n\u001b[0;32m----> 2\u001b[0;31m embedding_layer = Embedding(len(word_index)+1,\n\u001b[0m\u001b[1;32m      3\u001b[0m                             \u001b[0mEMBEDDING_DIM\u001b[0m\u001b[0;34m,\u001b[0m\u001b[0;34m\u001b[0m\u001b[0;34m\u001b[0m\u001b[0m\n\u001b[1;32m      4\u001b[0m \u001b[0;34m\u001b[0m\u001b[0m\n\u001b[1;32m      5\u001b[0m                             \u001b[0minput_length\u001b[0m\u001b[0;34m=\u001b[0m\u001b[0mmaxlen\u001b[0m\u001b[0;34m,\u001b[0m\u001b[0;34m\u001b[0m\u001b[0;34m\u001b[0m\u001b[0m\n",
      "\u001b[0;31mNameError\u001b[0m: name 'word_index' is not defined"
     ]
    }
   ],
   "source": [
    "# Creating the embedding layer. Source: https://blog.keras.io/using-pre-trained-word-embeddings-in-a-keras-model.html\n",
    "\n",
    "# embedding_matrix = np.zeros((len(word_index) + 1, EMBEDDING_DIM))\n",
    "# for word, i in word_index.items():\n",
    "#     embedding_vector = embeddings_index.get(word)\n",
    "#     if embedding_vector is not None:\n",
    "#         embedding_matrix[i] = embedding_vector\n",
    "\n",
    "embedding_layer = Embedding(len(word_index)+1,\n",
    "                            EMBEDDING_DIM,\n",
    "\n",
    "                            input_length=maxlen,\n",
    "                            trainable=False,\n",
    "                            name=\"Embedding layer\")"
   ]
  },
  {
   "cell_type": "code",
   "execution_count": 0,
   "metadata": {
    "colab": {},
    "colab_type": "code",
    "id": "UZtlTQ6V4yfL"
   },
   "outputs": [],
   "source": [
    "# prepared data \n",
    "\n",
    "X = np.array(X)\n",
    "Y = np_utils.to_categorical(list(df.category_to_id))"
   ]
  },
  {
   "cell_type": "code",
   "execution_count": 0,
   "metadata": {
    "colab": {
     "base_uri": "https://localhost:8080/",
     "height": 370
    },
    "colab_type": "code",
    "executionInfo": {
     "elapsed": 7535,
     "status": "ok",
     "timestamp": 1563626995388,
     "user": {
      "displayName": "Hansin Ahuja",
      "photoUrl": "",
      "userId": "15565003093339058118"
     },
     "user_tz": -330
    },
    "id": "Rf3OKyeR5um-",
    "outputId": "af549774-d1ea-4b61-819d-d02124f4eb3b"
   },
   "outputs": [
    {
     "name": "stdout",
     "output_type": "stream",
     "text": [
      "_________________________________________________________________\n",
      "Layer (type)                 Output Shape              Param #   \n",
      "=================================================================\n",
      "input_2 (InputLayer)         (None, 50)                0         \n",
      "_________________________________________________________________\n",
      "embedding_2 (Embedding)      (None, 50, 100)           12238800  \n",
      "_________________________________________________________________\n",
      "bidirectional_3 (Bidirection (None, 50, 256)           234496    \n",
      "_________________________________________________________________\n",
      "dropout_3 (Dropout)          (None, 50, 256)           0         \n",
      "_________________________________________________________________\n",
      "bidirectional_4 (Bidirection (None, 256)               394240    \n",
      "_________________________________________________________________\n",
      "dropout_4 (Dropout)          (None, 256)               0         \n",
      "_________________________________________________________________\n",
      "dense_2 (Dense)              (None, 38)                9766      \n",
      "=================================================================\n",
      "Total params: 12,877,302\n",
      "Trainable params: 638,502\n",
      "Non-trainable params: 12,238,800\n",
      "_________________________________________________________________\n"
     ]
    }
   ],
   "source": [
    "# Creating the model\n",
    "\n",
    "inp = Input(shape=(maxlen,), dtype='int32')\n",
    "x = embedding_layer(inp)\n",
    "x = Bidirectional(LSTM(128, return_sequences=True, name=\"BiLSTM-1\"))(x)\n",
    "x = Dropout(0.5, name=\"Dropout-1\")(x)\n",
    "x = Bidirectional(LSTM(128, name=\"BiLSTM-2\"))(x)\n",
    "x = Dropout(0.5, name=\"Dropout-2\")(x)\n",
    "outp = Dense(len(int_category), activation='softmax', name=\"FC-layer\")(x)\n",
    "model = Model(inp, outp)\n",
    "model.compile(loss='categorical_crossentropy', optimizer='adam', metrics=['acc'])\n",
    "model.summary()"
   ]
  },
  {
   "cell_type": "code",
   "execution_count": 0,
   "metadata": {
    "colab": {},
    "colab_type": "code",
    "id": "-28md1oX_ve7"
   },
   "outputs": [],
   "source": [
    "# Training the model\n",
    "\n",
    "model_history = model.fit(X, Y, batch_size=256, epochs=8, validation_split = 0.2)"
   ]
  },
  {
   "cell_type": "code",
   "execution_count": 0,
   "metadata": {
    "colab": {
     "base_uri": "https://localhost:8080/",
     "height": 136
    },
    "colab_type": "code",
    "executionInfo": {
     "elapsed": 1239,
     "status": "ok",
     "timestamp": 1561958468991,
     "user": {
      "displayName": "Hansin Ahuja",
      "photoUrl": "",
      "userId": "15565003093339058118"
     },
     "user_tz": -330
    },
    "id": "KdsKX6j84eqC",
    "outputId": "8089ee12-328d-40aa-a002-14252eaf2abb"
   },
   "outputs": [
    {
     "data": {
      "text/html": [
       "<div>\n",
       "<style scoped>\n",
       "    .dataframe tbody tr th:only-of-type {\n",
       "        vertical-align: middle;\n",
       "    }\n",
       "\n",
       "    .dataframe tbody tr th {\n",
       "        vertical-align: top;\n",
       "    }\n",
       "\n",
       "    .dataframe thead th {\n",
       "        text-align: right;\n",
       "    }\n",
       "</style>\n",
       "<table border=\"1\" class=\"dataframe\">\n",
       "  <thead>\n",
       "    <tr style=\"text-align: right;\">\n",
       "      <th></th>\n",
       "      <th>Unnamed: 0</th>\n",
       "      <th>labels</th>\n",
       "    </tr>\n",
       "  </thead>\n",
       "  <tbody>\n",
       "    <tr>\n",
       "      <th>0</th>\n",
       "      <td>0</td>\n",
       "      <td>BUSINESS</td>\n",
       "    </tr>\n",
       "    <tr>\n",
       "      <th>1</th>\n",
       "      <td>1</td>\n",
       "      <td>SPORTS</td>\n",
       "    </tr>\n",
       "    <tr>\n",
       "      <th>2</th>\n",
       "      <td>2</td>\n",
       "      <td>WORLDPOST</td>\n",
       "    </tr>\n",
       "  </tbody>\n",
       "</table>\n",
       "</div>"
      ],
      "text/plain": [
       "   Unnamed: 0     labels\n",
       "0           0   BUSINESS\n",
       "1           1     SPORTS\n",
       "2           2  WORLDPOST"
      ]
     },
     "execution_count": 14,
     "metadata": {
      "tags": []
     },
     "output_type": "execute_result"
    }
   ],
   "source": [
    "# Loading submission file\n",
    "\n",
    "df2 = pd.read_csv(SUBMISSION_FILE_PATH)\n",
    "df2 = df2.drop([0,1,2])\n",
    "\n",
    "# Loading test data\n",
    "\n",
    "df3 = pd.read_json(TEST_FILE_PATH, lines=True)\n",
    "df3.head()"
   ]
  },
  {
   "cell_type": "code",
   "execution_count": 0,
   "metadata": {
    "colab": {
     "base_uri": "https://localhost:8080/",
     "height": 330
    },
    "colab_type": "code",
    "executionInfo": {
     "elapsed": 2458,
     "status": "ok",
     "timestamp": 1561958544863,
     "user": {
      "displayName": "Hansin Ahuja",
      "photoUrl": "",
      "userId": "15565003093339058118"
     },
     "user_tz": -330
    },
    "id": "BtRMSzVU4_IQ",
    "outputId": "342c0287-08b5-4e9c-a734-4a9439bc229d"
   },
   "outputs": [
    {
     "data": {
      "text/html": [
       "<div>\n",
       "<style scoped>\n",
       "    .dataframe tbody tr th:only-of-type {\n",
       "        vertical-align: middle;\n",
       "    }\n",
       "\n",
       "    .dataframe tbody tr th {\n",
       "        vertical-align: top;\n",
       "    }\n",
       "\n",
       "    .dataframe thead th {\n",
       "        text-align: right;\n",
       "    }\n",
       "</style>\n",
       "<table border=\"1\" class=\"dataframe\">\n",
       "  <thead>\n",
       "    <tr style=\"text-align: right;\">\n",
       "      <th></th>\n",
       "      <th>authors</th>\n",
       "      <th>date</th>\n",
       "      <th>headline</th>\n",
       "      <th>link</th>\n",
       "      <th>short_description</th>\n",
       "      <th>text</th>\n",
       "      <th>words</th>\n",
       "    </tr>\n",
       "  </thead>\n",
       "  <tbody>\n",
       "    <tr>\n",
       "      <th>0</th>\n",
       "      <td>Emily Bennington, Contributor\\nAuthor, 'Who Sa...</td>\n",
       "      <td>2012-12-26</td>\n",
       "      <td>Making Sense of a Senseless World</td>\n",
       "      <td>https://www.huffingtonpost.com/entry/sandy-hoo...</td>\n",
       "      <td>I know I speak for many when I say that every ...</td>\n",
       "      <td>Making Sense of a Senseless World I know I spe...</td>\n",
       "      <td>[257, 711, 4, 5, 12503, 75, 13, 87, 13, 1140, ...</td>\n",
       "    </tr>\n",
       "    <tr>\n",
       "      <th>1</th>\n",
       "      <td>Andrea Wachter, Contributor\\nPsychotherapist a...</td>\n",
       "      <td>2012-12-26</td>\n",
       "      <td>Dog Talk</td>\n",
       "      <td>https://www.huffingtonpost.com/entry/self-este...</td>\n",
       "      <td>Helping my clients learn to accept who they ar...</td>\n",
       "      <td>Dog Talk Helping my clients learn to accept wh...</td>\n",
       "      <td>[634, 370, 1105, 32, 4060, 556, 2, 2100, 47, 5...</td>\n",
       "    </tr>\n",
       "    <tr>\n",
       "      <th>2</th>\n",
       "      <td>CafeMom, Contributor\\nCafeMom is the meting pl...</td>\n",
       "      <td>2012-12-26</td>\n",
       "      <td>7 Soothing Ways to Beat Stress During Pregnancy</td>\n",
       "      <td>https://www.huffingtonpost.com/entry/stress-du...</td>\n",
       "      <td>If you're pregnant and already feeling stresse...</td>\n",
       "      <td>7 Soothing Ways to Beat Stress During Pregnanc...</td>\n",
       "      <td>[256, 15858, 192, 2, 1927, 492, 203, 1764, 57,...</td>\n",
       "    </tr>\n",
       "    <tr>\n",
       "      <th>3</th>\n",
       "      <td>Robin Gelfenbien, Contributor\\nWriter, comedia...</td>\n",
       "      <td>2012-12-26</td>\n",
       "      <td>The Hard Truth About Sharing Your Birthday Wit...</td>\n",
       "      <td>https://www.huffingtonpost.com/entry/holiday-b...</td>\n",
       "      <td>As a kid, my birthday parties weren't always w...</td>\n",
       "      <td>The Hard Truth About Sharing Your Birthday Wit...</td>\n",
       "      <td>[1, 379, 663, 26, 1964, 20, 1016, 12, 2822, 3,...</td>\n",
       "    </tr>\n",
       "    <tr>\n",
       "      <th>4</th>\n",
       "      <td></td>\n",
       "      <td>2012-12-26</td>\n",
       "      <td>Optical Illusion And Photobomb Finally Come To...</td>\n",
       "      <td>https://www.huffingtonpost.com/entry/optical-i...</td>\n",
       "      <td>We assume the man in the background looks so m...</td>\n",
       "      <td>Optical Illusion And Photobomb Finally Come To...</td>\n",
       "      <td>[15842, 7877, 3, 22878, 547, 244, 433, 9, 3748...</td>\n",
       "    </tr>\n",
       "  </tbody>\n",
       "</table>\n",
       "</div>"
      ],
      "text/plain": [
       "                                             authors  ...                                              words\n",
       "0  Emily Bennington, Contributor\\nAuthor, 'Who Sa...  ...  [257, 711, 4, 5, 12503, 75, 13, 87, 13, 1140, ...\n",
       "1  Andrea Wachter, Contributor\\nPsychotherapist a...  ...  [634, 370, 1105, 32, 4060, 556, 2, 2100, 47, 5...\n",
       "2  CafeMom, Contributor\\nCafeMom is the meting pl...  ...  [256, 15858, 192, 2, 1927, 492, 203, 1764, 57,...\n",
       "3  Robin Gelfenbien, Contributor\\nWriter, comedia...  ...  [1, 379, 663, 26, 1964, 20, 1016, 12, 2822, 3,...\n",
       "4                                                     ...  [15842, 7877, 3, 22878, 547, 244, 433, 9, 3748...\n",
       "\n",
       "[5 rows x 7 columns]"
      ]
     },
     "execution_count": 20,
     "metadata": {
      "tags": []
     },
     "output_type": "execute_result"
    }
   ],
   "source": [
    "# Preprocessing the test data\n",
    "\n",
    "df3['text'] =  df3['headline'] + \" \" + df3['short_description'] + \" \" + df3['authors']\n",
    "X = tokenizer.texts_to_sequences(df3.text)\n",
    "df3['words'] = X\n",
    "print(df3.head())\n",
    "maxlen = 50\n",
    "X = list(sequence.pad_sequences(df3.words, maxlen=maxlen))\n",
    "X = np.array(X)"
   ]
  },
  {
   "cell_type": "code",
   "execution_count": 0,
   "metadata": {
    "colab": {
     "base_uri": "https://localhost:8080/",
     "height": 34
    },
    "colab_type": "code",
    "executionInfo": {
     "elapsed": 98146,
     "status": "ok",
     "timestamp": 1561958655406,
     "user": {
      "displayName": "Hansin Ahuja",
      "photoUrl": "",
      "userId": "15565003093339058118"
     },
     "user_tz": -330
    },
    "id": "rdc2kShF6DSx",
    "outputId": "712351ef-67ce-44fd-bee1-d5d020f8afee"
   },
   "outputs": [
    {
     "name": "stdout",
     "output_type": "stream",
     "text": [
      "30854/30854 [==============================] - 97s 3ms/step\n"
     ]
    }
   ],
   "source": [
    "# Making predictions on test data\n",
    "\n",
    "predictions = model.predict(X, verbose=1)"
   ]
  },
  {
   "cell_type": "code",
   "execution_count": 0,
   "metadata": {
    "colab": {
     "base_uri": "https://localhost:8080/",
     "height": 34
    },
    "colab_type": "code",
    "executionInfo": {
     "elapsed": 1237,
     "status": "ok",
     "timestamp": 1561958720237,
     "user": {
      "displayName": "Hansin Ahuja",
      "photoUrl": "",
      "userId": "15565003093339058118"
     },
     "user_tz": -330
    },
    "id": "kM0ynsZOucJZ",
    "outputId": "141c65c2-b725-4734-e887-4e532caf5b9c"
   },
   "outputs": [
    {
     "data": {
      "text/plain": [
       "(30854,)"
      ]
     },
     "execution_count": 25,
     "metadata": {
      "tags": []
     },
     "output_type": "execute_result"
    }
   ],
   "source": [
    "# Picking out the category with highest probability\n",
    "\n",
    "predictions = np.argmax(predictions, axis=-1)\n",
    "predictions.shape"
   ]
  },
  {
   "cell_type": "code",
   "execution_count": 0,
   "metadata": {
    "colab": {
     "base_uri": "https://localhost:8080/",
     "height": 1000
    },
    "colab_type": "code",
    "executionInfo": {
     "elapsed": 50621,
     "status": "ok",
     "timestamp": 1561958778918,
     "user": {
      "displayName": "Hansin Ahuja",
      "photoUrl": "",
      "userId": "15565003093339058118"
     },
     "user_tz": -330
    },
    "id": "3oZkucxs8TF8",
    "outputId": "c7963523-7930-4600-ff21-3e310dc99665"
   },
   "outputs": [
    {
     "name": "stdout",
     "output_type": "stream",
     "text": [
      "0\n",
      "100\n",
      "200\n",
      "300\n",
      "400\n",
      "500\n",
      "600\n",
      "700\n",
      "800\n",
      "900\n",
      "1000\n",
      "1100\n",
      "1200\n",
      "1300\n",
      "1400\n",
      "1500\n",
      "1600\n",
      "1700\n",
      "1800\n",
      "1900\n",
      "2000\n",
      "2100\n",
      "2200\n",
      "2300\n",
      "2400\n",
      "2500\n",
      "2600\n",
      "2700\n",
      "2800\n",
      "2900\n",
      "3000\n",
      "3100\n",
      "3200\n",
      "3300\n",
      "3400\n",
      "3500\n",
      "3600\n",
      "3700\n",
      "3800\n",
      "3900\n",
      "4000\n",
      "4100\n",
      "4200\n",
      "4300\n",
      "4400\n",
      "4500\n",
      "4600\n",
      "4700\n",
      "4800\n",
      "4900\n",
      "5000\n",
      "5100\n",
      "5200\n",
      "5300\n",
      "5400\n",
      "5500\n",
      "5600\n",
      "5700\n",
      "5800\n",
      "5900\n",
      "6000\n",
      "6100\n",
      "6200\n",
      "6300\n",
      "6400\n",
      "6500\n",
      "6600\n",
      "6700\n",
      "6800\n",
      "6900\n",
      "7000\n",
      "7100\n",
      "7200\n",
      "7300\n",
      "7400\n",
      "7500\n",
      "7600\n",
      "7700\n",
      "7800\n",
      "7900\n",
      "8000\n",
      "8100\n",
      "8200\n",
      "8300\n",
      "8400\n",
      "8500\n",
      "8600\n",
      "8700\n",
      "8800\n",
      "8900\n",
      "9000\n",
      "9100\n",
      "9200\n",
      "9300\n",
      "9400\n",
      "9500\n",
      "9600\n",
      "9700\n",
      "9800\n",
      "9900\n",
      "10000\n",
      "10100\n",
      "10200\n",
      "10300\n",
      "10400\n",
      "10500\n",
      "10600\n",
      "10700\n",
      "10800\n",
      "10900\n",
      "11000\n",
      "11100\n",
      "11200\n",
      "11300\n",
      "11400\n",
      "11500\n",
      "11600\n",
      "11700\n",
      "11800\n",
      "11900\n",
      "12000\n",
      "12100\n",
      "12200\n",
      "12300\n",
      "12400\n",
      "12500\n",
      "12600\n",
      "12700\n",
      "12800\n",
      "12900\n",
      "13000\n",
      "13100\n",
      "13200\n",
      "13300\n",
      "13400\n",
      "13500\n",
      "13600\n",
      "13700\n",
      "13800\n",
      "13900\n",
      "14000\n",
      "14100\n",
      "14200\n",
      "14300\n",
      "14400\n",
      "14500\n",
      "14600\n",
      "14700\n",
      "14800\n",
      "14900\n",
      "15000\n",
      "15100\n",
      "15200\n",
      "15300\n",
      "15400\n",
      "15500\n",
      "15600\n",
      "15700\n",
      "15800\n",
      "15900\n",
      "16000\n",
      "16100\n",
      "16200\n",
      "16300\n",
      "16400\n",
      "16500\n",
      "16600\n",
      "16700\n",
      "16800\n",
      "16900\n",
      "17000\n",
      "17100\n",
      "17200\n",
      "17300\n",
      "17400\n",
      "17500\n",
      "17600\n",
      "17700\n",
      "17800\n",
      "17900\n",
      "18000\n",
      "18100\n",
      "18200\n",
      "18300\n",
      "18400\n",
      "18500\n",
      "18600\n",
      "18700\n",
      "18800\n",
      "18900\n",
      "19000\n",
      "19100\n",
      "19200\n",
      "19300\n",
      "19400\n",
      "19500\n",
      "19600\n",
      "19700\n",
      "19800\n",
      "19900\n",
      "20000\n",
      "20100\n",
      "20200\n",
      "20300\n",
      "20400\n",
      "20500\n",
      "20600\n",
      "20700\n",
      "20800\n",
      "20900\n",
      "21000\n",
      "21100\n",
      "21200\n",
      "21300\n",
      "21400\n",
      "21500\n",
      "21600\n",
      "21700\n",
      "21800\n",
      "21900\n",
      "22000\n",
      "22100\n",
      "22200\n",
      "22300\n",
      "22400\n",
      "22500\n",
      "22600\n",
      "22700\n",
      "22800\n",
      "22900\n",
      "23000\n",
      "23100\n",
      "23200\n",
      "23300\n",
      "23400\n",
      "23500\n",
      "23600\n",
      "23700\n",
      "23800\n",
      "23900\n",
      "24000\n",
      "24100\n",
      "24200\n",
      "24300\n",
      "24400\n",
      "24500\n",
      "24600\n",
      "24700\n",
      "24800\n",
      "24900\n",
      "25000\n",
      "25100\n",
      "25200\n",
      "25300\n",
      "25400\n",
      "25500\n",
      "25600\n",
      "25700\n",
      "25800\n",
      "25900\n",
      "26000\n",
      "26100\n",
      "26200\n",
      "26300\n",
      "26400\n",
      "26500\n",
      "26600\n",
      "26700\n",
      "26800\n",
      "26900\n",
      "27000\n",
      "27100\n",
      "27200\n",
      "27300\n",
      "27400\n",
      "27500\n",
      "27600\n",
      "27700\n",
      "27800\n",
      "27900\n",
      "28000\n",
      "28100\n",
      "28200\n",
      "28300\n",
      "28400\n",
      "28500\n",
      "28600\n",
      "28700\n",
      "28800\n",
      "28900\n",
      "29000\n",
      "29100\n",
      "29200\n",
      "29300\n",
      "29400\n",
      "29500\n",
      "29600\n",
      "29700\n",
      "29800\n",
      "29900\n",
      "30000\n",
      "30100\n",
      "30200\n",
      "30300\n",
      "30400\n",
      "30500\n",
      "30600\n",
      "30700\n",
      "30800\n"
     ]
    }
   ],
   "source": [
    "# Writing predicitions to submissions file\n",
    "\n",
    "for i in range(predictions.shape[0]):\n",
    "  df2 = df2.append({'Unnamed: 0' : i, 'labels' : int_category[predictions[i]]} , ignore_index=True)\n",
    "  if(i%100==0):\n",
    "    print(i)"
   ]
  },
  {
   "cell_type": "code",
   "execution_count": 0,
   "metadata": {
    "colab": {},
    "colab_type": "code",
    "id": "t7YOldtRvxxr"
   },
   "outputs": [],
   "source": [
    "# Saving submissions file to GDrive\n",
    "\n",
    "df2.to_csv('nlp2.csv')"
   ]
  }
 ],
 "metadata": {
  "accelerator": "GPU",
  "colab": {
   "collapsed_sections": [],
   "name": "NLP.ipynb",
   "provenance": [],
   "version": "0.3.2"
  },
  "kernelspec": {
   "display_name": "Python 3",
   "language": "python",
   "name": "python3"
  },
  "language_info": {
   "codemirror_mode": {
    "name": "ipython",
    "version": 3
   },
   "file_extension": ".py",
   "mimetype": "text/x-python",
   "name": "python",
   "nbconvert_exporter": "python",
   "pygments_lexer": "ipython3",
   "version": "3.7.3"
  }
 },
 "nbformat": 4,
 "nbformat_minor": 1
}
